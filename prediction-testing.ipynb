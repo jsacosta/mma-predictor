{
 "cells": [
  {
   "cell_type": "code",
   "execution_count": 17,
   "metadata": {},
   "outputs": [],
   "source": [
    "import numpy as np\n",
    "import pandas as pd"
   ]
  },
  {
   "cell_type": "code",
   "execution_count": 18,
   "metadata": {},
   "outputs": [],
   "source": [
    "comp = pd.read_csv('data/composite-database.csv')"
   ]
  },
  {
   "cell_type": "code",
   "execution_count": 19,
   "metadata": {},
   "outputs": [
    {
     "data": {
      "text/html": [
       "<div>\n",
       "<style scoped>\n",
       "    .dataframe tbody tr th:only-of-type {\n",
       "        vertical-align: middle;\n",
       "    }\n",
       "\n",
       "    .dataframe tbody tr th {\n",
       "        vertical-align: top;\n",
       "    }\n",
       "\n",
       "    .dataframe thead th {\n",
       "        text-align: right;\n",
       "    }\n",
       "</style>\n",
       "<table border=\"1\" class=\"dataframe\">\n",
       "  <thead>\n",
       "    <tr style=\"text-align: right;\">\n",
       "      <th></th>\n",
       "      <th>id</th>\n",
       "      <th>name</th>\n",
       "      <th>id_opp</th>\n",
       "      <th>name_opp</th>\n",
       "      <th>event_id</th>\n",
       "      <th>event_name</th>\n",
       "      <th>elo</th>\n",
       "      <th>elo_opp</th>\n",
       "      <th>height_diff</th>\n",
       "      <th>reach_diff</th>\n",
       "      <th>...</th>\n",
       "      <th>str_def_diff</th>\n",
       "      <th>td_avg_diff</th>\n",
       "      <th>td_acc_diff</th>\n",
       "      <th>td_def_diff</th>\n",
       "      <th>sub_avg_diff</th>\n",
       "      <th>wins_diff</th>\n",
       "      <th>losses_diff</th>\n",
       "      <th>momentum_diff</th>\n",
       "      <th>wl_diff_diff</th>\n",
       "      <th>outcome</th>\n",
       "    </tr>\n",
       "  </thead>\n",
       "  <tbody>\n",
       "    <tr>\n",
       "      <th>0</th>\n",
       "      <td>429e7d3725852ce9</td>\n",
       "      <td>Royce Gracie</td>\n",
       "      <td>63b65af1c5cb02cb</td>\n",
       "      <td>Ken Shamrock</td>\n",
       "      <td>6420efac0578988b</td>\n",
       "      <td>UFC 1: The Beginning</td>\n",
       "      <td>750.0</td>\n",
       "      <td>750.000000</td>\n",
       "      <td>0.0</td>\n",
       "      <td>3.0</td>\n",
       "      <td>...</td>\n",
       "      <td>-2.0</td>\n",
       "      <td>-0.94</td>\n",
       "      <td>-60.0</td>\n",
       "      <td>22.0</td>\n",
       "      <td>-1.7</td>\n",
       "      <td>5.0</td>\n",
       "      <td>-7.0</td>\n",
       "      <td>5.0</td>\n",
       "      <td>12.0</td>\n",
       "      <td>W</td>\n",
       "    </tr>\n",
       "    <tr>\n",
       "      <th>1</th>\n",
       "      <td>63b65af1c5cb02cb</td>\n",
       "      <td>Ken Shamrock</td>\n",
       "      <td>429e7d3725852ce9</td>\n",
       "      <td>Royce Gracie</td>\n",
       "      <td>6420efac0578988b</td>\n",
       "      <td>UFC 1: The Beginning</td>\n",
       "      <td>750.0</td>\n",
       "      <td>750.000000</td>\n",
       "      <td>0.0</td>\n",
       "      <td>-3.0</td>\n",
       "      <td>...</td>\n",
       "      <td>2.0</td>\n",
       "      <td>0.94</td>\n",
       "      <td>60.0</td>\n",
       "      <td>-22.0</td>\n",
       "      <td>1.7</td>\n",
       "      <td>-5.0</td>\n",
       "      <td>7.0</td>\n",
       "      <td>-5.0</td>\n",
       "      <td>-12.0</td>\n",
       "      <td>L</td>\n",
       "    </tr>\n",
       "    <tr>\n",
       "      <th>2</th>\n",
       "      <td>429e7d3725852ce9</td>\n",
       "      <td>Royce Gracie</td>\n",
       "      <td>08ae5cd9aef7ddd3</td>\n",
       "      <td>Kimo Leopoldo</td>\n",
       "      <td>1a49e0670dfaca31</td>\n",
       "      <td>UFC 3: The American Dream</td>\n",
       "      <td>766.0</td>\n",
       "      <td>750.000000</td>\n",
       "      <td>-2.0</td>\n",
       "      <td>0.0</td>\n",
       "      <td>...</td>\n",
       "      <td>7.0</td>\n",
       "      <td>-4.55</td>\n",
       "      <td>-100.0</td>\n",
       "      <td>66.0</td>\n",
       "      <td>-1.5</td>\n",
       "      <td>10.0</td>\n",
       "      <td>-3.0</td>\n",
       "      <td>3.0</td>\n",
       "      <td>13.0</td>\n",
       "      <td>W</td>\n",
       "    </tr>\n",
       "    <tr>\n",
       "      <th>3</th>\n",
       "      <td>08ae5cd9aef7ddd3</td>\n",
       "      <td>Kimo Leopoldo</td>\n",
       "      <td>429e7d3725852ce9</td>\n",
       "      <td>Royce Gracie</td>\n",
       "      <td>1a49e0670dfaca31</td>\n",
       "      <td>UFC 3: The American Dream</td>\n",
       "      <td>750.0</td>\n",
       "      <td>766.000000</td>\n",
       "      <td>2.0</td>\n",
       "      <td>-0.0</td>\n",
       "      <td>...</td>\n",
       "      <td>-7.0</td>\n",
       "      <td>4.55</td>\n",
       "      <td>100.0</td>\n",
       "      <td>-66.0</td>\n",
       "      <td>1.5</td>\n",
       "      <td>-10.0</td>\n",
       "      <td>3.0</td>\n",
       "      <td>-3.0</td>\n",
       "      <td>-13.0</td>\n",
       "      <td>L</td>\n",
       "    </tr>\n",
       "    <tr>\n",
       "      <th>4</th>\n",
       "      <td>63b65af1c5cb02cb</td>\n",
       "      <td>Ken Shamrock</td>\n",
       "      <td>429e7d3725852ce9</td>\n",
       "      <td>Royce Gracie</td>\n",
       "      <td>dedc3bb440d09554</td>\n",
       "      <td>UFC 5: The Return of the Beast</td>\n",
       "      <td>734.0</td>\n",
       "      <td>781.263693</td>\n",
       "      <td>0.0</td>\n",
       "      <td>-3.0</td>\n",
       "      <td>...</td>\n",
       "      <td>2.0</td>\n",
       "      <td>0.94</td>\n",
       "      <td>60.0</td>\n",
       "      <td>-22.0</td>\n",
       "      <td>1.7</td>\n",
       "      <td>-5.0</td>\n",
       "      <td>7.0</td>\n",
       "      <td>-5.0</td>\n",
       "      <td>-12.0</td>\n",
       "      <td>W</td>\n",
       "    </tr>\n",
       "  </tbody>\n",
       "</table>\n",
       "<p>5 rows × 23 columns</p>\n",
       "</div>"
      ],
      "text/plain": [
       "                 id           name            id_opp       name_opp  \\\n",
       "0  429e7d3725852ce9   Royce Gracie  63b65af1c5cb02cb   Ken Shamrock   \n",
       "1  63b65af1c5cb02cb   Ken Shamrock  429e7d3725852ce9   Royce Gracie   \n",
       "2  429e7d3725852ce9   Royce Gracie  08ae5cd9aef7ddd3  Kimo Leopoldo   \n",
       "3  08ae5cd9aef7ddd3  Kimo Leopoldo  429e7d3725852ce9   Royce Gracie   \n",
       "4  63b65af1c5cb02cb   Ken Shamrock  429e7d3725852ce9   Royce Gracie   \n",
       "\n",
       "           event_id                      event_name    elo     elo_opp  \\\n",
       "0  6420efac0578988b            UFC 1: The Beginning  750.0  750.000000   \n",
       "1  6420efac0578988b            UFC 1: The Beginning  750.0  750.000000   \n",
       "2  1a49e0670dfaca31       UFC 3: The American Dream  766.0  750.000000   \n",
       "3  1a49e0670dfaca31       UFC 3: The American Dream  750.0  766.000000   \n",
       "4  dedc3bb440d09554  UFC 5: The Return of the Beast  734.0  781.263693   \n",
       "\n",
       "   height_diff  reach_diff   ...     str_def_diff  td_avg_diff  td_acc_diff  \\\n",
       "0          0.0         3.0   ...             -2.0        -0.94        -60.0   \n",
       "1          0.0        -3.0   ...              2.0         0.94         60.0   \n",
       "2         -2.0         0.0   ...              7.0        -4.55       -100.0   \n",
       "3          2.0        -0.0   ...             -7.0         4.55        100.0   \n",
       "4          0.0        -3.0   ...              2.0         0.94         60.0   \n",
       "\n",
       "   td_def_diff  sub_avg_diff  wins_diff  losses_diff  momentum_diff  \\\n",
       "0         22.0          -1.7        5.0         -7.0            5.0   \n",
       "1        -22.0           1.7       -5.0          7.0           -5.0   \n",
       "2         66.0          -1.5       10.0         -3.0            3.0   \n",
       "3        -66.0           1.5      -10.0          3.0           -3.0   \n",
       "4        -22.0           1.7       -5.0          7.0           -5.0   \n",
       "\n",
       "   wl_diff_diff  outcome  \n",
       "0          12.0        W  \n",
       "1         -12.0        L  \n",
       "2          13.0        W  \n",
       "3         -13.0        L  \n",
       "4         -12.0        W  \n",
       "\n",
       "[5 rows x 23 columns]"
      ]
     },
     "execution_count": 19,
     "metadata": {},
     "output_type": "execute_result"
    }
   ],
   "source": [
    "comp.sort_values('elo', ascending = False).head(10)\n",
    "comp = comp.drop(columns = ['Unnamed: 0'])\n",
    "comp.head(5)"
   ]
  },
  {
   "cell_type": "code",
   "execution_count": 89,
   "metadata": {},
   "outputs": [],
   "source": [
    "comp = pd.read_csv('data/composite-database.csv')\n",
    "train = pd.read_csv('data/composite-train.csv')"
   ]
  },
  {
   "cell_type": "code",
   "execution_count": 90,
   "metadata": {},
   "outputs": [],
   "source": [
    "#Import models from scikit learn module:\n",
    "from sklearn.linear_model import LogisticRegression\n",
    "from sklearn.model_selection import KFold   #For K-fold cross validation\n",
    "from sklearn.model_selection import cross_val_score\n",
    "from sklearn.ensemble import RandomForestClassifier\n",
    "from sklearn.tree import DecisionTreeClassifier, export_graphviz\n",
    "from sklearn import metrics\n",
    "\n",
    "#Generic function for making a classification model and accessing performance:\n",
    "def classification_model(model, data, predictors, outcome):\n",
    "    #Fit the model:\n",
    "    model.fit(data[predictors],data[outcome])\n",
    "  \n",
    "    #Make predictions on training set:\n",
    "    predictions = model.predict(data[predictors])\n",
    "  \n",
    "    #Print accuracy\n",
    "    accuracy = metrics.accuracy_score(predictions,data[outcome])\n",
    "    print(\"Accuracy : %s\" % \"{0:.3%}\".format(accuracy))\n",
    "\n",
    "    #Perform k-fold cross-validation with 10 folds\n",
    "    kf = KFold(n_splits=10, shuffle=False)\n",
    "    error = []\n",
    "    for train, test in kf.split(data):\n",
    "        # Filter training data\n",
    "        train_predictors = (data[predictors].iloc[train,:])\n",
    "    \n",
    "        # The target we're using to train the algorithm.\n",
    "        train_target = data[outcome].iloc[train]\n",
    "    \n",
    "        # Training the algorithm using the predictors and target.\n",
    "        model.fit(train_predictors, train_target)\n",
    "    \n",
    "        #Record error from each cross-validation run\n",
    "        error.append(model.score(data[predictors].iloc[test,:], data[outcome].iloc[test]))\n",
    " \n",
    "    print (\"Cross-Validation Score : %s\" % \"{0:.3%}\".format(np.mean(error)))\n",
    "\n",
    "    #Fit the model again so that it can be refered outside the function:\n",
    "    model.fit(data[predictors],data[outcome]) "
   ]
  },
  {
   "cell_type": "code",
   "execution_count": 91,
   "metadata": {},
   "outputs": [
    {
     "name": "stdout",
     "output_type": "stream",
     "text": [
      "Accuracy : 75.728%\n",
      "Cross-Validation Score : 75.195%\n"
     ]
    }
   ],
   "source": [
    "predictors = ['elo','elo_opp','height_diff','reach_diff','ss_min_diff','str_acc_diff', \n",
    "            'str_a_min_diff','str_def_diff','td_avg_diff','td_acc_diff','td_def_diff','sub_avg_diff', \n",
    "            'wins_diff','losses_diff','momentum_diff','wl_diff_diff']\n",
    "outcome = 'outcome'\n",
    "model = LogisticRegression()\n",
    "classification_model(model, train, predictors, outcome)"
   ]
  },
  {
   "cell_type": "code",
   "execution_count": 92,
   "metadata": {},
   "outputs": [
    {
     "name": "stdout",
     "output_type": "stream",
     "text": [
      "Accuracy : 100.000%\n",
      "Cross-Validation Score : 67.881%\n"
     ]
    }
   ],
   "source": [
    "from sklearn.tree import DecisionTreeClassifier\n",
    "model = DecisionTreeClassifier()\n",
    "classification_model(model, train, predictors, outcome)"
   ]
  },
  {
   "cell_type": "code",
   "execution_count": 93,
   "metadata": {},
   "outputs": [
    {
     "name": "stdout",
     "output_type": "stream",
     "text": [
      "Accuracy : 99.811%\n",
      "Cross-Validation Score : 76.639%\n"
     ]
    }
   ],
   "source": [
    "from sklearn.ensemble import RandomForestClassifier\n",
    "model = RandomForestClassifier(n_estimators=30)\n",
    "classification_model(model, train, predictors, outcome)"
   ]
  },
  {
   "cell_type": "code",
   "execution_count": 112,
   "metadata": {},
   "outputs": [],
   "source": [
    "test = pd.read_csv('data/composite-test.csv')\n",
    "results = pd.read_csv('data/test-results.csv')\n",
    "test = test.iloc[::2]\n",
    "test = test.reset_index()\n",
    "results = results.iloc[::2]\n",
    "results = results.reset_index()"
   ]
  },
  {
   "cell_type": "code",
   "execution_count": 117,
   "metadata": {},
   "outputs": [
    {
     "name": "stdout",
     "output_type": "stream",
     "text": [
      "Prediction rate is 89.93%\n"
     ]
    }
   ],
   "source": [
    "# Logistic Regression Testing\n",
    "model = LogisticRegression()\n",
    "model.fit(train[predictors],train[outcome])\n",
    "test[outcome] = model.predict(test[predictors])\n",
    "\n",
    "score = 0\n",
    "total = len(results)\n",
    "for i in range(0, total):\n",
    "    if results.loc[i, 'outcome'] == test.loc[i, 'outcome']:\n",
    "        score += 1\n",
    "print('Prediction rate is ' + str(round((score*100/total),2)) + '%')"
   ]
  },
  {
   "cell_type": "code",
   "execution_count": 114,
   "metadata": {},
   "outputs": [
    {
     "name": "stdout",
     "output_type": "stream",
     "text": [
      "Prediction rate is 72.48%\n"
     ]
    }
   ],
   "source": [
    "# Decision Tree Testing\n",
    "model = DecisionTreeClassifier()\n",
    "model.fit(train[predictors],train[outcome])\n",
    "predictions = model.predict(train[predictors])\n",
    "test[outcome] = model.predict(test[predictors])\n",
    "\n",
    "score = 0\n",
    "total = len(results)\n",
    "for i in range(0, total):\n",
    "    if results.loc[i, 'outcome'] == test.loc[i, 'outcome']:\n",
    "        score += 1\n",
    "print('Prediction rate is ' + str(round((score*100/total),2)) + '%')"
   ]
  },
  {
   "cell_type": "code",
   "execution_count": 115,
   "metadata": {},
   "outputs": [
    {
     "name": "stdout",
     "output_type": "stream",
     "text": [
      "Prediction rate is 79.87%\n"
     ]
    }
   ],
   "source": [
    "# Random Forest Testing\n",
    "model = RandomForestClassifier()\n",
    "model.fit(train[predictors],train[outcome])\n",
    "predictions = model.predict(train[predictors])\n",
    "test[outcome] = model.predict(test[predictors])\n",
    "\n",
    "score = 0\n",
    "total = len(results)\n",
    "for i in range(0, total):\n",
    "    if results.loc[i, 'outcome'] == test.loc[i, 'outcome']:\n",
    "        score += 1\n",
    "print('Prediction rate is ' + str(round((score*100/total),2)) + '%')"
   ]
  }
 ],
 "metadata": {
  "kernelspec": {
   "display_name": "Python 3",
   "language": "python",
   "name": "python3"
  },
  "language_info": {
   "codemirror_mode": {
    "name": "ipython",
    "version": 3
   },
   "file_extension": ".py",
   "mimetype": "text/x-python",
   "name": "python",
   "nbconvert_exporter": "python",
   "pygments_lexer": "ipython3",
   "version": "3.6.5"
  }
 },
 "nbformat": 4,
 "nbformat_minor": 2
}
